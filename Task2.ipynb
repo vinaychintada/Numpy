{
  "nbformat": 4,
  "nbformat_minor": 0,
  "metadata": {
    "colab": {
      "name": "Task2",
      "provenance": [],
      "collapsed_sections": []
    },
    "kernelspec": {
      "name": "python3",
      "display_name": "Python 3"
    },
    "language_info": {
      "name": "python"
    }
  },
  "cells": [
    {
      "cell_type": "markdown",
      "source": [
        "1 Import the numpy package under the name np"
      ],
      "metadata": {
        "id": "oOd4yIjE2y5z"
      }
    },
    {
      "cell_type": "code",
      "execution_count": null,
      "metadata": {
        "id": "WBZ6w3Sm2voV"
      },
      "outputs": [],
      "source": [
        "import numpy as np"
      ]
    },
    {
      "cell_type": "markdown",
      "source": [
        "2 Print the numpy version and the configuration"
      ],
      "metadata": {
        "id": "mVidnOwl2xaI"
      }
    },
    {
      "cell_type": "code",
      "source": [
        "print(np.__version__)\n",
        "print(np.show_config())"
      ],
      "metadata": {
        "id": "7jZzw-NE25PE"
      },
      "execution_count": null,
      "outputs": []
    },
    {
      "cell_type": "markdown",
      "source": [
        "3 Create a null vector of size 10 "
      ],
      "metadata": {
        "id": "MhKEoKGA28kY"
      }
    },
    {
      "cell_type": "code",
      "source": [
        "x = np.zeros(10)\n",
        "print(x)"
      ],
      "metadata": {
        "id": "oulZUv1O29pd"
      },
      "execution_count": null,
      "outputs": []
    },
    {
      "cell_type": "markdown",
      "source": [
        "4 How to find the memory size of any array"
      ],
      "metadata": {
        "id": "7X4sw3DT3DPd"
      }
    },
    {
      "cell_type": "code",
      "source": [
        "n = np.zeros((0,0))\n",
        "print(\"%d bytes\" % (n.size * n.itemsize))"
      ],
      "metadata": {
        "id": "35x63Hy73EIR"
      },
      "execution_count": null,
      "outputs": []
    },
    {
      "cell_type": "markdown",
      "source": [
        "5 How to get the documentation of the numpy add function from the command line?"
      ],
      "metadata": {
        "id": "5EaCXXFG3HF-"
      }
    },
    {
      "cell_type": "code",
      "source": [
        "print(np.info(np.add))"
      ],
      "metadata": {
        "id": "_ZOknDr34J6b"
      },
      "execution_count": null,
      "outputs": []
    },
    {
      "cell_type": "markdown",
      "source": [
        "6 Create a null vector of size 10 but the fifth value which is 1"
      ],
      "metadata": {
        "id": "XGJcNhR64NBZ"
      }
    },
    {
      "cell_type": "code",
      "source": [
        "X=np.zeros(10)\n",
        "X[4]=1\n",
        "print(X)"
      ],
      "metadata": {
        "id": "fs7MBxg94OnH"
      },
      "execution_count": null,
      "outputs": []
    },
    {
      "cell_type": "markdown",
      "source": [
        "7  Create a vector with values ranging from 10 to 49"
      ],
      "metadata": {
        "id": "GrADz9DG4be6"
      }
    },
    {
      "cell_type": "code",
      "source": [
        "X=np.arange(10,50)\n",
        "print(X)"
      ],
      "metadata": {
        "id": "hIp0vllx4cY0"
      },
      "execution_count": null,
      "outputs": []
    },
    {
      "cell_type": "markdown",
      "source": [
        "8 Reverse a vector (first element becomes last)"
      ],
      "metadata": {
        "id": "K09lCRog4ez3"
      }
    },
    {
      "cell_type": "code",
      "source": [
        "X=X[::-1]\n",
        "print(X)"
      ],
      "metadata": {
        "id": "_VQoM8Fl4fmW"
      },
      "execution_count": null,
      "outputs": []
    },
    {
      "cell_type": "markdown",
      "source": [
        "9 Create a 3x3 matrix with values ranging from 0 to 8"
      ],
      "metadata": {
        "id": "Z1FzhUNv4kY1"
      }
    },
    {
      "cell_type": "code",
      "source": [
        "X=np.arange(9).reshape(3,3)\n",
        "print(X)"
      ],
      "metadata": {
        "id": "557dHFxu4lYn"
      },
      "execution_count": null,
      "outputs": []
    },
    {
      "cell_type": "markdown",
      "source": [
        "10 Find indices of non-zero elements from [1,2,0,0,4,0] "
      ],
      "metadata": {
        "id": "0MQitQvH4oRL"
      }
    },
    {
      "cell_type": "code",
      "source": [
        "nz=np.nonzero([1,2,0,0,4,0])\n",
        "print(nz)"
      ],
      "metadata": {
        "id": "60Z7EtfC4pcd"
      },
      "execution_count": null,
      "outputs": []
    },
    {
      "cell_type": "markdown",
      "source": [
        "11 Create a 3x3 identity matrix"
      ],
      "metadata": {
        "id": "0S5wS6zr4vY7"
      }
    },
    {
      "cell_type": "code",
      "source": [
        "X=np.eye(3)\n",
        "print(X)"
      ],
      "metadata": {
        "id": "DCSQyyOL4wQy"
      },
      "execution_count": null,
      "outputs": []
    },
    {
      "cell_type": "markdown",
      "source": [
        "12 Create a 3x3x3 array with random values"
      ],
      "metadata": {
        "id": "0LJh346N5Vbo"
      }
    },
    {
      "cell_type": "code",
      "source": [
        "X=np.random.random((3,3,3))\n",
        "print(X)"
      ],
      "metadata": {
        "id": "hahn8vZS5WS5"
      },
      "execution_count": null,
      "outputs": []
    },
    {
      "cell_type": "markdown",
      "source": [
        "13 Create a 10x10 array with random values and find the minimum and maximum values "
      ],
      "metadata": {
        "id": "B6y6PVPp5XM1"
      }
    },
    {
      "cell_type": "code",
      "source": [
        "X=np.random.random((10,10))\n",
        "Xmin,Xmax=X.min(),X.max()\n",
        "print(Xmin,Xmax)"
      ],
      "metadata": {
        "id": "zO5r0S4h5X8z"
      },
      "execution_count": null,
      "outputs": []
    },
    {
      "cell_type": "markdown",
      "source": [
        "14 Create a random vector of size 30 and find the mean value"
      ],
      "metadata": {
        "id": "cwQk3AFm5co-"
      }
    },
    {
      "cell_type": "code",
      "source": [
        "X=np.random.random(30)\n",
        "m=X.mean()\n",
        "print(m)"
      ],
      "metadata": {
        "id": "acJz0Y0w5dCf"
      },
      "execution_count": null,
      "outputs": []
    },
    {
      "cell_type": "markdown",
      "source": [
        "15 Create a 2d array with 1 on the border and 0 inside "
      ],
      "metadata": {
        "id": "mZwUU1Rz5jVR"
      }
    },
    {
      "cell_type": "code",
      "source": [
        "X=np.ones((10,10))\n",
        "X[1:-1,1:-1]=0"
      ],
      "metadata": {
        "id": "qDajRgeH5kIm"
      },
      "execution_count": null,
      "outputs": []
    },
    {
      "cell_type": "markdown",
      "source": [
        "17 What is the result of the following expression?\n",
        "0 * np.nan\n",
        "np.nan == np.nan\n",
        "np.inf > np.nan\n",
        "np.nan - np.nan\n",
        "0.3 == 3 * 0.1"
      ],
      "metadata": {
        "id": "aJLg9y595pXY"
      }
    },
    {
      "cell_type": "code",
      "source": [
        "False"
      ],
      "metadata": {
        "id": "u09Z5nGu5qJz"
      },
      "execution_count": null,
      "outputs": []
    },
    {
      "cell_type": "markdown",
      "source": [
        "18  Create a 5x5 matrix with values 1,2,3,4 just below the diagonal "
      ],
      "metadata": {
        "id": "45dZgjGU5wwI"
      }
    },
    {
      "cell_type": "code",
      "source": [
        "X=np.diag(1+np.arange(4),k=-1)\n",
        "print(X)"
      ],
      "metadata": {
        "id": "gTC28ohN5y8Y"
      },
      "execution_count": null,
      "outputs": []
    },
    {
      "cell_type": "markdown",
      "source": [
        "19  Create a 8x8 matrix and fill it with a checkerboard pattern "
      ],
      "metadata": {
        "id": "KiGGiynL53RU"
      }
    },
    {
      "cell_type": "code",
      "source": [
        "X=np.zeros((8,8),dtype=int)\n",
        "X[1::2,::2]=1\n",
        "X[::2,1::2]=1\n",
        "print(X)"
      ],
      "metadata": {
        "id": "NSqlX4MJ54Th"
      },
      "execution_count": null,
      "outputs": []
    },
    {
      "cell_type": "markdown",
      "source": [
        "20 Consider a (6,7,8) shape array, what is the index (x,y,z) of the 100th element?"
      ],
      "metadata": {
        "id": "XvyXbYRX564u"
      }
    },
    {
      "cell_type": "code",
      "source": [
        "print(np.unravel_index(100,(6,7,8)))"
      ],
      "metadata": {
        "id": "GE0IENzE57sm"
      },
      "execution_count": null,
      "outputs": []
    },
    {
      "cell_type": "markdown",
      "source": [
        "21 Create a checkerboard 8x8 matrix using the tile function"
      ],
      "metadata": {
        "id": "EszsF8Ei5_lD"
      }
    },
    {
      "cell_type": "code",
      "source": [
        "X=np.tile(np.array([[0,1],[1,0]]),(4,4))\n",
        "print(X)"
      ],
      "metadata": {
        "id": "Y0L6Bzw66Av2"
      },
      "execution_count": null,
      "outputs": []
    },
    {
      "cell_type": "markdown",
      "source": [
        "22  Normalize a 5x5 random matrix"
      ],
      "metadata": {
        "id": "x28Jk4IR6DiN"
      }
    },
    {
      "cell_type": "code",
      "source": [
        "X=np.random.random((5,5))\n",
        "Xmax,Xmin=X.max(),X.min()\n",
        "X=(X-Xmin)/(Xmax-Xmin)\n",
        "print(X)"
      ],
      "metadata": {
        "id": "BRoJKe126ENv"
      },
      "execution_count": null,
      "outputs": []
    },
    {
      "cell_type": "markdown",
      "source": [
        "23 Create a custom dtype that describes a color as four unsigned bytes (RGBA)"
      ],
      "metadata": {
        "id": "4d3_CVBM5_bM"
      }
    },
    {
      "cell_type": "code",
      "source": [
        "color=np.dtype([(\"r\",np.ubyte,1),\n",
        "                (\"g\",np.ubyte,1),\n",
        "                (\"b\",np.ubyte,1),\n",
        "                (\"a\",np.ubyte,1)])"
      ],
      "metadata": {
        "id": "BrWkjW-46Jhl"
      },
      "execution_count": null,
      "outputs": []
    },
    {
      "cell_type": "markdown",
      "source": [
        "24 Multiply a 5x3 matrix by a 3x2 matrix (real matrix product)"
      ],
      "metadata": {
        "id": "shx7s-i16MN7"
      }
    },
    {
      "cell_type": "code",
      "source": [
        "X=np.dot(np.ones((5,3)),np.ones((3,2)))\n",
        "print(X)"
      ],
      "metadata": {
        "id": "c3Kfi18o6NGs"
      },
      "execution_count": null,
      "outputs": []
    },
    {
      "cell_type": "markdown",
      "source": [
        "25 Given a 1D array, negate all elements which are between 3 and 8, in place"
      ],
      "metadata": {
        "id": "8B5cxjOD6bqA"
      }
    },
    {
      "cell_type": "code",
      "source": [
        "X=np.arange(11)\n",
        "X[(3<X)&(X<=8)]*=-1"
      ],
      "metadata": {
        "id": "-8tH1Y6k6caI"
      },
      "execution_count": null,
      "outputs": []
    },
    {
      "cell_type": "markdown",
      "source": [
        "26 What is the output of the following script?"
      ],
      "metadata": {
        "id": "3DtnzIFb6exf"
      }
    },
    {
      "cell_type": "code",
      "source": [
        "print(sum(range(5),-1))\n",
        "from numpy import *\n",
        "print(sum(range(5),-1))"
      ],
      "metadata": {
        "id": "1_B6pLCx6ftf"
      },
      "execution_count": null,
      "outputs": []
    },
    {
      "cell_type": "markdown",
      "source": [
        "27 Consider an integer vector Z, which of these expressions are legal? "
      ],
      "metadata": {
        "id": "gdReh4K56jDt"
      }
    },
    {
      "cell_type": "code",
      "source": [
        "z=np.arange(10)\n",
        "print(z**z)\n",
        "print(2 << z >> 2)\n",
        "print(z <- z)\n",
        "print(1j*z)\n",
        "print(z/1/1)\n",
        "print(z<z<z)"
      ],
      "metadata": {
        "id": "_p7_1RQK6jxZ"
      },
      "execution_count": null,
      "outputs": []
    },
    {
      "cell_type": "markdown",
      "source": [
        "28 What are the result of the following expressions?"
      ],
      "metadata": {
        "id": "k4czdnsA6mU-"
      }
    },
    {
      "cell_type": "code",
      "source": [
        "np.array(0) / np.array(0)\n",
        "np.array(0) // np.array(0)\n",
        "np.array([np.nan]).astype(int).astype(float)"
      ],
      "metadata": {
        "id": "LXTgkv1e6nJg"
      },
      "execution_count": null,
      "outputs": []
    },
    {
      "cell_type": "markdown",
      "source": [
        "29 How to round away from zero a float array ?"
      ],
      "metadata": {
        "id": "UlYeHLwO7FJz"
      }
    },
    {
      "cell_type": "code",
      "source": [
        "X=np.random.uniform(-10,+10,10)\n",
        "print(np.trunc(X+np.copysign(0.5,X)))"
      ],
      "metadata": {
        "id": "qslCgpxN7F9E"
      },
      "execution_count": null,
      "outputs": []
    },
    {
      "cell_type": "markdown",
      "source": [
        "30 How to find common values between two arrays?"
      ],
      "metadata": {
        "id": "5bRpa0WZ7Iu6"
      }
    },
    {
      "cell_type": "code",
      "source": [
        "print(np.intersect1d(ar1, ar2))"
      ],
      "metadata": {
        "id": "6yetd8WJ7Jrz"
      },
      "execution_count": null,
      "outputs": []
    },
    {
      "cell_type": "markdown",
      "source": [
        "32 Is the following expressions true? (★☆☆)\n",
        "(hint: imaginary number)\n",
        "\n",
        "np.sqrt(-1) == np.emath.sqrt(-1)"
      ],
      "metadata": {
        "id": "9gWGWCe97MgF"
      }
    },
    {
      "cell_type": "code",
      "source": [
        "False"
      ],
      "metadata": {
        "id": "62je_6Ya7NV6"
      },
      "execution_count": null,
      "outputs": []
    },
    {
      "cell_type": "markdown",
      "source": [
        "33 How to get the dates of yesterday, today and tomorrow?"
      ],
      "metadata": {
        "id": "gnJQBpAi7SWW"
      }
    },
    {
      "cell_type": "code",
      "source": [
        "print(np.datetime64('today'))\n",
        "print(np.datetime64('today') - np.timedelta64(1))\n",
        "print(np.datetime64('today') + np.timedelta64(1)"
      ],
      "metadata": {
        "id": "OtfFxHCj7TKM"
      },
      "execution_count": null,
      "outputs": []
    },
    {
      "cell_type": "markdown",
      "source": [
        "34 How to get all the dates corresponding to the month of July 2016?"
      ],
      "metadata": {
        "id": "SS6xac6x7WKr"
      }
    },
    {
      "cell_type": "code",
      "source": [
        "print(\"July, 2016\")\n",
        "print(np.arange('2016-07', '2016-08', dtype='datetime64[D]'))"
      ],
      "metadata": {
        "id": "JdRmjdfY7XRI"
      },
      "execution_count": null,
      "outputs": []
    },
    {
      "cell_type": "markdown",
      "source": [
        "35 How to compute ((A+B)*(-A/2)) in place (without copy)?"
      ],
      "metadata": {
        "id": "0SzjdKOv7aLL"
      }
    },
    {
      "cell_type": "code",
      "source": [
        "A = -10\n",
        "B = 20\n",
        "z = ((A+B)*(-A/2))\n",
        "print(z)\n",
        "\n",
        "B = np.add(A,B)\n",
        "A = np.divide(A,2)\n",
        "A = np.negative(A)\n",
        "A = np.multiply(A,B)\n",
        "print(A)"
      ],
      "metadata": {
        "id": "xqJ0iNA17a4M"
      },
      "execution_count": null,
      "outputs": []
    },
    {
      "cell_type": "markdown",
      "source": [
        "36 Extract the integer part of a random array using 5 different methods"
      ],
      "metadata": {
        "id": "LpBR3-mP7doC"
      }
    },
    {
      "cell_type": "code",
      "source": [
        "z = np.random.uniform(0,10,5)\n",
        "print(z)\n",
        "print(z-z%1)\n",
        "print(z.astype(int))\n",
        "print(z//1)\n",
        "print(np.floor(z))"
      ],
      "metadata": {
        "id": "S5br-6SZ7ev-"
      },
      "execution_count": null,
      "outputs": []
    },
    {
      "cell_type": "markdown",
      "source": [
        "37 Create a 5x5 matrix with row values ranging from 0 to 4"
      ],
      "metadata": {
        "id": "m1RMmJJz7jbE"
      }
    },
    {
      "cell_type": "code",
      "source": [
        "Z = np.random.randint(0,4,25).reshape(5,5)\n",
        "print(Z)"
      ],
      "metadata": {
        "id": "C1YdSqtv7lXk"
      },
      "execution_count": null,
      "outputs": []
    },
    {
      "cell_type": "markdown",
      "source": [
        "38 Consider a generator function that generates 10 integers and use it to build an array"
      ],
      "metadata": {
        "id": "hhNptVWI7vbL"
      }
    },
    {
      "cell_type": "code",
      "source": [
        "def generate():\n",
        "    for x in range(10):\n",
        "        yield x\n",
        "Z = np.fromiter(generate(),dtype=float,count=-1)\n",
        "print(Z)"
      ],
      "metadata": {
        "id": "q9aEXeMg7wDH"
      },
      "execution_count": null,
      "outputs": []
    },
    {
      "cell_type": "markdown",
      "source": [
        "39 Create a vector of size 10 with values ranging from 0 to 1, both excluded"
      ],
      "metadata": {
        "id": "HR-nHZtd7ymr"
      }
    },
    {
      "cell_type": "code",
      "source": [
        "Z = np.linspace(0,1,11,endpoint=False)[1:]\n",
        "print(Z)\n",
        "z = np.random.rand(10)\n",
        "print(z)"
      ],
      "metadata": {
        "id": "v-NDrK4Q7zhf"
      },
      "execution_count": null,
      "outputs": []
    },
    {
      "cell_type": "markdown",
      "source": [
        "40 Create a random vector of size 10 and sort it"
      ],
      "metadata": {
        "id": "gKRFSqmd74f5"
      }
    },
    {
      "cell_type": "code",
      "source": [
        "z = np.random.uniform(10,50,10)\n",
        "print(z.astype(int))\n",
        "z.sort()\n",
        "print(z.astype(int))"
      ],
      "metadata": {
        "id": "tja4SuAd75LN"
      },
      "execution_count": null,
      "outputs": []
    },
    {
      "cell_type": "markdown",
      "source": [
        "41 How to sum a small array faster than np.sum?"
      ],
      "metadata": {
        "id": "nPGsHmEQ78Bx"
      }
    },
    {
      "cell_type": "code",
      "source": [
        "z = np.arange(10)\n",
        "np.add.reduce(z)"
      ],
      "metadata": {
        "id": "OhXPljoo784H"
      },
      "execution_count": null,
      "outputs": []
    },
    {
      "cell_type": "markdown",
      "source": [
        "42 Consider two random array A and B, check if they are equal"
      ],
      "metadata": {
        "id": "4Oy0k4yO7_hZ"
      }
    },
    {
      "cell_type": "code",
      "source": [
        "A = np.array([2,2,4,7,4,5,5])\n",
        "B = np.array([2,2,9,8,6,4,6])\n",
        "\n",
        "equal = np.array_equal(A,B)\n",
        "print(equal)"
      ],
      "metadata": {
        "id": "j7rSnDcZ8AcO"
      },
      "execution_count": null,
      "outputs": []
    },
    {
      "cell_type": "markdown",
      "source": [
        "43 Make an array immutable (read-only)"
      ],
      "metadata": {
        "id": "59sP9M2m8DjZ"
      }
    },
    {
      "cell_type": "code",
      "source": [
        "X = np.zeros(10)\n",
        "X.flags.writeable = False\n",
        "X[0] = 1"
      ],
      "metadata": {
        "id": "5_iNF1JC8E7I"
      },
      "execution_count": null,
      "outputs": []
    },
    {
      "cell_type": "markdown",
      "source": [
        "45 Create random vector of size 10 and replace the maximum value by 0"
      ],
      "metadata": {
        "id": "aDANygCd8IXW"
      }
    },
    {
      "cell_type": "code",
      "source": [
        "X = np.arange(10)\n",
        "max(X)\n",
        "print(X.argmax())\n",
        "X[9] = 0\n",
        "print(X)"
      ],
      "metadata": {
        "id": "3zE9yerl8Jip"
      },
      "execution_count": null,
      "outputs": []
    },
    {
      "cell_type": "markdown",
      "source": [
        "47 Given two arrays, X and Y, construct the Cauchy matrix C (Cij =1/(xi - yj))"
      ],
      "metadata": {
        "id": "a0bRZDDB8Ri-"
      }
    },
    {
      "cell_type": "code",
      "source": [
        "X = np.arange(8)\n",
        "Y = X + 0.5\n",
        "C = 1.0 / np.subtract.outer(X, Y)\n",
        "print(np.linalg.det(C))"
      ],
      "metadata": {
        "id": "c8uVLUXo8YEo"
      },
      "execution_count": null,
      "outputs": []
    },
    {
      "cell_type": "markdown",
      "source": [
        "48 Print the minimum and maximum representable value for each numpy scalar type"
      ],
      "metadata": {
        "id": "iLC6CUIC8fc3"
      }
    },
    {
      "cell_type": "code",
      "source": [
        "for dtype in [np.int8, np.int32, np.int64]:\n",
        "   print(np.iinfo(dtype).min)\n",
        "   print(np.iinfo(dtype).max)\n",
        "for dtype in [np.float32, np.float64]:\n",
        "   print(np.finfo(dtype).min)\n",
        "   print(np.finfo(dtype).max)\n",
        "   print(np.finfo(dtype).eps)"
      ],
      "metadata": {
        "id": "IGLMxZV88gOU"
      },
      "execution_count": null,
      "outputs": []
    },
    {
      "cell_type": "markdown",
      "source": [
        "49 How to print all the values of an array?"
      ],
      "metadata": {
        "id": "GIKHRuid8jc8"
      }
    },
    {
      "cell_type": "code",
      "source": [
        "X = np.arange(100).reshape(20,5)\n",
        "np.set_printoptions()"
      ],
      "metadata": {
        "id": "-yslGLAT81WJ"
      },
      "execution_count": null,
      "outputs": []
    },
    {
      "cell_type": "markdown",
      "source": [
        "50 How to find the closest value (to a given scalar) in a vector?"
      ],
      "metadata": {
        "id": "7ItD5eDo85If"
      }
    },
    {
      "cell_type": "code",
      "source": [
        "X = np.arange(100)\n",
        "v = np.random.uniform(0,100)\n",
        "index = (np.abs(X-v)).argmin()\n",
        "print(X[index])"
      ],
      "metadata": {
        "id": "f8KxU9Rn85ya"
      },
      "execution_count": null,
      "outputs": []
    },
    {
      "cell_type": "markdown",
      "source": [
        "51 Create a structured array representing a position (x,y) and a color (r,g,b)"
      ],
      "metadata": {
        "id": "cE7JQiIz88lk"
      }
    },
    {
      "cell_type": "code",
      "source": [
        "X = np.zeros(10, [ ('position', [ ('x', float, 1),\n",
        "('y', float, 1)]),\n",
        "('color', [ ('r', float, 1),\n",
        "('g', float, 1),\n",
        "('b', float, 1)])])\n",
        "print(X)"
      ],
      "metadata": {
        "id": "cH7wcnML89N8"
      },
      "execution_count": null,
      "outputs": []
    },
    {
      "cell_type": "markdown",
      "source": [
        "52 Consider a random vector with shape (100,2) representing coordinates, find point by point distances"
      ],
      "metadata": {
        "id": "Mg-ELU_r9Ifj"
      }
    },
    {
      "cell_type": "code",
      "source": [
        "X = np.random.random((10,2))\n",
        "C,D = np.atleast_2d(X[:,0], X[:,1])\n",
        "A = np.sqrt( (C-C.T)**2 + (D-D.T)**2)\n",
        "print(A)\n",
        "import scipy\n",
        "import scipy.spatial\n",
        "X= np.random.random((10,2))\n",
        "A = scipy.spatial.distance.cdist(X,X)\n",
        "print(A)"
      ],
      "metadata": {
        "id": "y1Pec_Bi9Jwl"
      },
      "execution_count": null,
      "outputs": []
    },
    {
      "cell_type": "markdown",
      "source": [
        "53 How to convert a float (32 bits) array into an integer (32 bits) in place?"
      ],
      "metadata": {
        "id": "zQqbNajY9O6l"
      }
    },
    {
      "cell_type": "code",
      "source": [
        "Z = np.arange(10, dtype=np.int32)\n",
        "Z = Z.astype(np.float32, copy=False)\n",
        "print(Z)"
      ],
      "metadata": {
        "id": "T9TLMW5L9QX6"
      },
      "execution_count": null,
      "outputs": []
    },
    {
      "cell_type": "markdown",
      "source": [
        "55 What is the equivalent of enumerate for numpy arrays?"
      ],
      "metadata": {
        "id": "VB2BjbHA9Umj"
      }
    },
    {
      "cell_type": "code",
      "source": [
        "Z = np.arange(9).reshape(3,3)\n",
        "for index, value in np.ndenumerate(Z):\n",
        "  print(index, value)\n",
        "for index in np.ndindex(Z.shape):\n",
        "  print(index, Z[index])"
      ],
      "metadata": {
        "id": "SLSg4qfo9V95"
      },
      "execution_count": null,
      "outputs": []
    },
    {
      "cell_type": "markdown",
      "source": [
        "56  Generate a generic 2D Gaussian-like array"
      ],
      "metadata": {
        "id": "9Epn2IYr9b3S"
      }
    },
    {
      "cell_type": "code",
      "source": [
        "X, Y = np.meshgrid(np.linspace(-1,1,10), np.linspace(-1,1,10))\n",
        "D = np.sqrt(X*X+Y*Y)\n",
        "sigma, mu = 1.0, 0.0\n",
        "G = np.exp(-( (D-mu)**2 / ( 2.0 * sigma**2 ) ) )\n",
        "print(G)"
      ],
      "metadata": {
        "id": "hiqvHsgP9c4a"
      },
      "execution_count": null,
      "outputs": []
    },
    {
      "cell_type": "markdown",
      "source": [
        "57 How to randomly place p elements in a 2D array?"
      ],
      "metadata": {
        "id": "AHMSRmKW9mJf"
      }
    },
    {
      "cell_type": "code",
      "source": [
        "n = 10\n",
        "p = 3\n",
        "Z = np.zeros((n,n))\n",
        "np.put(Z, np.random.choice(range(n*n), p, replace=False),1)\n",
        "print(Z)"
      ],
      "metadata": {
        "id": "N7ViyeJx9nLK"
      },
      "execution_count": null,
      "outputs": []
    },
    {
      "cell_type": "markdown",
      "source": [
        "58 Subtract the mean of each row of a matrix"
      ],
      "metadata": {
        "id": "qAdG_EE59qvb"
      }
    },
    {
      "cell_type": "code",
      "source": [
        "X = np.random.rand(5, 10)\n",
        "Y = X - X.mean(axis=1, keepdims=True)\n",
        "Y = X - X.mean(axis=1).reshape(-1, 1)\n",
        "print(Y)"
      ],
      "metadata": {
        "id": "a8vH6s3G9rZl"
      },
      "execution_count": null,
      "outputs": []
    },
    {
      "cell_type": "markdown",
      "source": [
        "59  How to sort an array by the nth column?"
      ],
      "metadata": {
        "id": "HMY4Ibin9vQP"
      }
    },
    {
      "cell_type": "code",
      "source": [
        "Z = np.random.randint(0,10,(3,3))\n",
        "print(Z)\n",
        "print(Z[Z[:,1].argsort()])"
      ],
      "metadata": {
        "id": "W4w-HoXK9xpD"
      },
      "execution_count": null,
      "outputs": []
    },
    {
      "cell_type": "markdown",
      "source": [
        "60 How to tell if a given 2D array has null columns?"
      ],
      "metadata": {
        "id": "Z7F_AChm92K5"
      }
    },
    {
      "cell_type": "code",
      "source": [
        "Z = np.random.randint(0,10,(3,3))\n",
        "print(Z)\n",
        "print(Z[Z[:,1].argsort()])"
      ],
      "metadata": {
        "id": "39y57WkD93Cy"
      },
      "execution_count": null,
      "outputs": []
    },
    {
      "cell_type": "markdown",
      "source": [
        "61 Find the nearest value from a given value in an array "
      ],
      "metadata": {
        "id": "ancPgVc396gn"
      }
    },
    {
      "cell_type": "code",
      "source": [
        "Z = np.random.uniform(0,1,10)\n",
        "z = 0.5\n",
        "m = Z.flat[np.abs(Z - z).argmin()]\n",
        "print(m)"
      ],
      "metadata": {
        "id": "bI8lTpK797yp"
      },
      "execution_count": null,
      "outputs": []
    },
    {
      "cell_type": "markdown",
      "source": [
        "62 Considering two arrays with shape (1,3) and (3,1), how to compute their sum using an iterator?"
      ],
      "metadata": {
        "id": "H4z1GGUX-AKO"
      }
    },
    {
      "cell_type": "code",
      "source": [
        "A = np.arange(3).reshape(3,1)\n",
        "B = np.arange(3).reshape(1,3)\n",
        "it = np.nditer([A,B,None])\n",
        "for x,y,z in it: z[...] = x + y\n",
        "print(it.operands[2])"
      ],
      "metadata": {
        "id": "mxOJ0kQ0-A7w"
      },
      "execution_count": null,
      "outputs": []
    },
    {
      "cell_type": "markdown",
      "source": [
        "64 Consider a given vector, how to add 1 to each element indexed by a second vector (be careful with repeated indices)?"
      ],
      "metadata": {
        "id": "p-dTOgbH-E1r"
      }
    },
    {
      "cell_type": "code",
      "source": [
        "Z = np.ones(10)\n",
        "I = np.random.randint(0,len(Z),20)\n",
        "Z += np.bincount(I, minlength=len(Z))\n",
        "print(Z)\n",
        "np.add.at(Z, I, 1)\n",
        "print(Z)"
      ],
      "metadata": {
        "id": "I3WDeNL5-FqE"
      },
      "execution_count": null,
      "outputs": []
    },
    {
      "cell_type": "markdown",
      "source": [
        "65 How to accumulate elements of a vector (X) to an array (F) based on an index list (I)?"
      ],
      "metadata": {
        "id": "3o-AJC99-M3X"
      }
    },
    {
      "cell_type": "code",
      "source": [
        "X = [1,2,3,4,5,6]\n",
        "I = [1,3,9,3,4,1]\n",
        "F = np.bincount(I,X)\n",
        "print(F)"
      ],
      "metadata": {
        "id": "CmbhR8Lm-RvU"
      },
      "execution_count": null,
      "outputs": []
    },
    {
      "cell_type": "markdown",
      "source": [
        "66 Considering a (w,h,3) image of (dtype=ubyte), compute the number of unique colors"
      ],
      "metadata": {
        "id": "rNLhAlQ_-TJg"
      }
    },
    {
      "cell_type": "code",
      "source": [
        "w,h = 16,16\n",
        "I = np.random.randint(0,2,(h,w,3)).astype(np.ubyte)\n",
        "F = I[...,0]*256*256 + I[...,1]*256 +I[...,2]\n",
        "n = len(np.unique(F))\n",
        "print(np.unique(I))"
      ],
      "metadata": {
        "id": "rYC8F4GP-YH2"
      },
      "execution_count": null,
      "outputs": []
    },
    {
      "cell_type": "markdown",
      "source": [
        "67 Considering a four dimensions array, how to get sum over the last two axis at once?"
      ],
      "metadata": {
        "id": "ZH-ROA7o-bjy"
      }
    },
    {
      "cell_type": "code",
      "source": [
        "A = np.random.randint(0,10,(3,4,3,4))\n",
        "sum = A.sum(axis=(-2,-1))\n",
        "print(sum)\n",
        "sum = A.reshape(A.shape[:-2] + (-1,)).sum(axis=-1)\n",
        "print(sum)"
      ],
      "metadata": {
        "id": "-AGRzhiV-caP"
      },
      "execution_count": null,
      "outputs": []
    },
    {
      "cell_type": "markdown",
      "source": [
        "68 Considering a one-dimensional vector D, how to compute means of subsets of D using a vector S of same size describing subset indices?"
      ],
      "metadata": {
        "id": "0AUG600E-fwO"
      }
    },
    {
      "cell_type": "code",
      "source": [
        "D = np.random.uniform(0,1,100)\n",
        "S = np.random.randint(0,10,100)\n",
        "D_sums = np.bincount(S, weights=D)\n",
        "D_counts = np.bincount(S)\n",
        "D_means = D_sums / D_counts\n",
        "print(D_means)\n",
        "import pandas as pd\n",
        "print(pd.Series(D).groupby(S).mean())"
      ],
      "metadata": {
        "id": "9w_2ZooU-gg4"
      },
      "execution_count": null,
      "outputs": []
    },
    {
      "cell_type": "markdown",
      "source": [
        "69 How to get the diagonal of a dot product?"
      ],
      "metadata": {
        "id": "Ah5YlVS3-kUB"
      }
    },
    {
      "cell_type": "code",
      "source": [
        "A = np.random.uniform(0,1,(5,5))\n",
        "B = np.random.uniform(0,1,(5,5))\n",
        "np.diag(np.dot(A, B))\n",
        "np.sum(A * B.T, axis=1)\n",
        "np.einsum(\"ij,ji->i\", A, B)"
      ],
      "metadata": {
        "id": "z-qZnzjK-lBO"
      },
      "execution_count": null,
      "outputs": []
    },
    {
      "cell_type": "markdown",
      "source": [
        "70 Consider the vector [1, 2, 3, 4, 5], how to build a new vector with 3 consecutive zeros interleaved between each value?"
      ],
      "metadata": {
        "id": "rSAdAsQU-oRG"
      }
    },
    {
      "cell_type": "code",
      "source": [
        "X = np.array([1,2,3,4,5])\n",
        "nz = 3\n",
        "Z = np.zeros(len(X) + (len(X)-1)*(nz))\n",
        "Z[::nz+1] = X\n",
        "print(Z)"
      ],
      "metadata": {
        "id": "ueIE8-Fl-pfM"
      },
      "execution_count": null,
      "outputs": []
    },
    {
      "cell_type": "markdown",
      "source": [
        "71 Consider an array of dimension (5,5,3), how to mulitply it by an array with dimensions (5,5)?"
      ],
      "metadata": {
        "id": "PIgA7KSl-s_r"
      }
    },
    {
      "cell_type": "code",
      "source": [
        "A = np.ones((5,5,3))\n",
        "B = 2*np.ones((5,5))\n",
        "print(A * B[:,:,None])"
      ],
      "metadata": {
        "id": "VRCy9rHQ-tq5"
      },
      "execution_count": null,
      "outputs": []
    },
    {
      "cell_type": "markdown",
      "source": [
        "72 How to swap two rows of an array?"
      ],
      "metadata": {
        "id": "BGE6T3Jv-6if"
      }
    },
    {
      "cell_type": "code",
      "source": [
        "A = np.arange(25).reshape(5,5)\n",
        "A[[0,1]] = A[[1,0]]\n",
        "print(A)"
      ],
      "metadata": {
        "id": "BHagirTg-7PT"
      },
      "execution_count": null,
      "outputs": []
    },
    {
      "cell_type": "markdown",
      "source": [
        "73 Consider a set of 10 triplets describing 10 triangles (with shared vertices), find the set of unique line segments composing all the triangles"
      ],
      "metadata": {
        "id": "v9vlkfiYARAQ"
      }
    },
    {
      "cell_type": "code",
      "source": [
        "faces = np.random.randint(0,100,(10,3))\n",
        "F = np.roll(faces.repeat(2,axis=1),-1,axis=1)\n",
        "F = F.reshape(len(F)*3,2)\n",
        "F = np.sort(F,axis=1)\n",
        "G = F.view( dtype=[('p0',F.dtype),('p1',F.dtype)] )\n",
        "G = np.unique(G)\n",
        "print(G)"
      ],
      "metadata": {
        "id": "x3s8inPNAR74"
      },
      "execution_count": null,
      "outputs": []
    },
    {
      "cell_type": "markdown",
      "source": [
        "74 Given an array C that is a bincount, how to produce an array A such that np.bincount(A) == C?"
      ],
      "metadata": {
        "id": "6nsxXouSAVcc"
      }
    },
    {
      "cell_type": "code",
      "source": [
        "C = np.bincount([1,1,2,3,4,4,6])\n",
        "A = np.repeat(np.arange(len(C)), C)\n",
        "print(A)"
      ],
      "metadata": {
        "id": "3LH-VtLKB4IN"
      },
      "execution_count": null,
      "outputs": []
    },
    {
      "cell_type": "markdown",
      "source": [
        "75 How to compute averages using a sliding window over an array?"
      ],
      "metadata": {
        "id": "plxDA9BcB8AW"
      }
    },
    {
      "cell_type": "code",
      "source": [
        "def moving_average(a, n=3) :\n",
        "  ret = np.cumsum(a, dtype=float)\n",
        "  ret[n:] = ret[n:] - ret[:-n]\n",
        "  return ret[n - 1:] / n\n",
        "  Z = np.arange(20)\n",
        "  print(moving_average(Z, n=3))"
      ],
      "metadata": {
        "id": "AwS22hLXB8mR"
      },
      "execution_count": null,
      "outputs": []
    },
    {
      "cell_type": "markdown",
      "source": [
        "76 Consider a one-dimensional array Z, build a two-dimensional array whose first row is (Z[0],Z[1],Z[2]) and each subsequent row is shifted by 1 (last row should be (Z[-3],Z[-2],Z[-1])"
      ],
      "metadata": {
        "id": "E9CWsHVSCAmQ"
      }
    },
    {
      "cell_type": "code",
      "source": [
        "from numpy.lib import stride_tricks\n",
        "def rolling(a, window):\n",
        "  shape = (a.size - window + 1, window)\n",
        "  strides = (a.itemsize, a.itemsize)\n",
        "  return stride_tricks.as_strided(a, shape=shape, strides=strides)\n",
        "  Z = rolling(np.arange(10), 3)\n",
        "  print(Z)"
      ],
      "metadata": {
        "id": "90JB6DjiCBUI"
      },
      "execution_count": null,
      "outputs": []
    },
    {
      "cell_type": "markdown",
      "source": [
        "77 How to negate a boolean, or to change the sign of a float inplace?"
      ],
      "metadata": {
        "id": "USNjbnUGCD0g"
      }
    },
    {
      "cell_type": "code",
      "source": [
        "Z = np.random.randint(0,2,100)\n",
        "np.logical_not(Z, out=Z)\n",
        "Z = np.random.uniform(-1.0,1.0,100)\n",
        "np.negative(Z, out=Z)"
      ],
      "metadata": {
        "id": "ImTrrlYACEkp"
      },
      "execution_count": null,
      "outputs": []
    },
    {
      "cell_type": "markdown",
      "source": [
        "81 Consider an array Z = [1,2,3,4,5,6,7,8,9,10,11,12,13,14], how to generate an array R = [[1,2,3,4], [2,3,4,5], [3,4,5,6], ..., [11,12,13,14]]?"
      ],
      "metadata": {
        "id": "mimXVXzmCHeo"
      }
    },
    {
      "cell_type": "code",
      "source": [
        "Z = np.arange(1,15,dtype=np.uint32)\n",
        "R = stride_tricks.as_strided(Z,(11,4),(4,4))\n",
        "print(R)"
      ],
      "metadata": {
        "id": "K1lO5pNPCIIG"
      },
      "execution_count": null,
      "outputs": []
    },
    {
      "cell_type": "markdown",
      "source": [
        "82 Compute a matrix rank"
      ],
      "metadata": {
        "id": "fMP4SQwHCPww"
      }
    },
    {
      "cell_type": "code",
      "source": [
        "Z = np.random.uniform(0,1,(10,10))\n",
        "U, S, V = np.linalg.svd(Z)\n",
        "rank = np.sum(S > 1e-10)\n",
        "print(rank)"
      ],
      "metadata": {
        "id": "4HRXRZdJCSXX"
      },
      "execution_count": null,
      "outputs": []
    },
    {
      "cell_type": "markdown",
      "source": [
        "83  How to find the most frequent value in an array?"
      ],
      "metadata": {
        "id": "tuFAOC0WCVWJ"
      }
    },
    {
      "cell_type": "code",
      "source": [
        "Z = np.random.randint(0,10,50)\n",
        "print(np.bincount(Z).argmax())"
      ],
      "metadata": {
        "id": "HugrzIaCCWHm"
      },
      "execution_count": null,
      "outputs": []
    },
    {
      "cell_type": "markdown",
      "source": [
        "89 How to get the n largest values of an array"
      ],
      "metadata": {
        "id": "NG4V8XKUCYwA"
      }
    },
    {
      "cell_type": "code",
      "source": [
        "Z = np.arange(10000)\n",
        "np.random.shuffle(Z)\n",
        "n = 5\n",
        "print (Z[np.argsort(Z)[-n:]])\n",
        "print (Z[np.argpartition(-Z,n)[:n]])"
      ],
      "metadata": {
        "id": "upgZggxOCZco"
      },
      "execution_count": null,
      "outputs": []
    },
    {
      "cell_type": "markdown",
      "source": [
        "94 Considering a 10x3 matrix, extract rows with unequal values (e.g. [2,2,3])"
      ],
      "metadata": {
        "id": "HovMT7JFCegd"
      }
    },
    {
      "cell_type": "code",
      "source": [
        "Z = np.random.randint(0,5,(10,3))\n",
        "E = np.logical_and.reduce(Z[:,1:] == Z[:,:-1], axis=1)\n",
        "U = Z[~E]\n",
        "print(Z)\n",
        "print(U)"
      ],
      "metadata": {
        "id": "d1JGqotHC2oG"
      },
      "execution_count": null,
      "outputs": []
    }
  ]
}